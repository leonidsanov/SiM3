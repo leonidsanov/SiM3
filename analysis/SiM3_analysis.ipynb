{
 "cells": [
  {
   "cell_type": "markdown",
   "metadata": {},
   "source": [
    "# Анализ котировок"
   ]
  },
  {
   "cell_type": "code",
   "execution_count": 53,
   "metadata": {},
   "outputs": [],
   "source": [
    "import scipy\n",
    "import math\n",
    "import numpy as np\n",
    "import pandas as pd\n",
    "import matplotlib\n",
    "import sklearn\n",
    "import tensorflow as tf"
   ]
  },
  {
   "cell_type": "code",
   "execution_count": 54,
   "metadata": {},
   "outputs": [],
   "source": [
    "# Загружаем данные\n",
    "df = pd.read_csv('C:\\SBERBANK\\QUIK_x64\\lua\\Si-6.23\\SiM3_data_23-04-23\\SiM3_Data.csv', index_col=0, parse_dates=False)"
   ]
  },
  {
   "cell_type": "code",
   "execution_count": 55,
   "metadata": {},
   "outputs": [
    {
     "data": {
      "text/html": [
       "<div>\n",
       "<style scoped>\n",
       "    .dataframe tbody tr th:only-of-type {\n",
       "        vertical-align: middle;\n",
       "    }\n",
       "\n",
       "    .dataframe tbody tr th {\n",
       "        vertical-align: top;\n",
       "    }\n",
       "\n",
       "    .dataframe thead th {\n",
       "        text-align: right;\n",
       "    }\n",
       "</style>\n",
       "<table border=\"1\" class=\"dataframe\">\n",
       "  <thead>\n",
       "    <tr style=\"text-align: right;\">\n",
       "      <th></th>\n",
       "      <th>Time</th>\n",
       "      <th>Open</th>\n",
       "      <th>High</th>\n",
       "      <th>Low</th>\n",
       "      <th>Close</th>\n",
       "      <th>Volume</th>\n",
       "    </tr>\n",
       "  </thead>\n",
       "  <tbody>\n",
       "    <tr>\n",
       "      <th>2023-4-24 19:55</th>\n",
       "      <td>19:55</td>\n",
       "      <td>80296.0</td>\n",
       "      <td>80300.0</td>\n",
       "      <td>80296.0</td>\n",
       "      <td>80297.0</td>\n",
       "      <td>53.0</td>\n",
       "    </tr>\n",
       "    <tr>\n",
       "      <th>2023-4-24 19:50</th>\n",
       "      <td>19:50</td>\n",
       "      <td>80302.0</td>\n",
       "      <td>80304.0</td>\n",
       "      <td>80293.0</td>\n",
       "      <td>80296.0</td>\n",
       "      <td>237.0</td>\n",
       "    </tr>\n",
       "    <tr>\n",
       "      <th>2023-4-24 19:45</th>\n",
       "      <td>19:45</td>\n",
       "      <td>80296.0</td>\n",
       "      <td>80324.0</td>\n",
       "      <td>80293.0</td>\n",
       "      <td>80304.0</td>\n",
       "      <td>288.0</td>\n",
       "    </tr>\n",
       "    <tr>\n",
       "      <th>2023-4-24 19:40</th>\n",
       "      <td>19:40</td>\n",
       "      <td>80300.0</td>\n",
       "      <td>80312.0</td>\n",
       "      <td>80293.0</td>\n",
       "      <td>80296.0</td>\n",
       "      <td>275.0</td>\n",
       "    </tr>\n",
       "    <tr>\n",
       "      <th>2023-4-24 19:35</th>\n",
       "      <td>19:35</td>\n",
       "      <td>80300.0</td>\n",
       "      <td>80311.0</td>\n",
       "      <td>80292.0</td>\n",
       "      <td>80301.0</td>\n",
       "      <td>143.0</td>\n",
       "    </tr>\n",
       "  </tbody>\n",
       "</table>\n",
       "</div>"
      ],
      "text/plain": [
       "                  Time     Open     High      Low    Close  Volume\n",
       "2023-4-24 19:55  19:55  80296.0  80300.0  80296.0  80297.0    53.0\n",
       "2023-4-24 19:50  19:50  80302.0  80304.0  80293.0  80296.0   237.0\n",
       "2023-4-24 19:45  19:45  80296.0  80324.0  80293.0  80304.0   288.0\n",
       "2023-4-24 19:40  19:40  80300.0  80312.0  80293.0  80296.0   275.0\n",
       "2023-4-24 19:35  19:35  80300.0  80311.0  80292.0  80301.0   143.0"
      ]
     },
     "execution_count": 55,
     "metadata": {},
     "output_type": "execute_result"
    }
   ],
   "source": [
    "# Проиндексируем данные таким образом, чтобы дата и время стали индексом\n",
    "df.index = df.index+ ' ' + df['Time']\n",
    "df.head()"
   ]
  },
  {
   "cell_type": "code",
   "execution_count": 56,
   "metadata": {},
   "outputs": [],
   "source": [
    "# Поменяем порядок данных так, чтобы начало было в первой сроке\n",
    "df = df[::-1]"
   ]
  },
  {
   "cell_type": "code",
   "execution_count": 57,
   "metadata": {},
   "outputs": [],
   "source": [
    "# формирование подмножества данных и исключение нечисловых значений (NaN))\n",
    "df = (pd.DataFrame(df).dropna())"
   ]
  },
  {
   "cell_type": "code",
   "execution_count": 58,
   "metadata": {},
   "outputs": [
    {
     "name": "stdout",
     "output_type": "stream",
     "text": [
      "2021-12-16 20:45    21.0\n",
      "2021-12-16 20:50   -12.0\n",
      "2021-12-16 20:55     5.0\n",
      "2021-12-16 21:0    -38.0\n",
      "2021-12-16 21:5    -22.0\n",
      "                    ... \n",
      "2023-4-24 19:35      1.0\n",
      "2023-4-24 19:40     -4.0\n",
      "2023-4-24 19:45      8.0\n",
      "2023-4-24 19:50     -6.0\n",
      "2023-4-24 19:55      1.0\n",
      "Name: return, Length: 20261, dtype: float64\n"
     ]
    }
   ],
   "source": [
    "df['return'] = df.Close - df.Open\n",
    "print(df['return'])"
   ]
  },
  {
   "cell_type": "code",
   "execution_count": 59,
   "metadata": {},
   "outputs": [
    {
     "name": "stdout",
     "output_type": "stream",
     "text": [
      "2021-12-16 20:45    1\n",
      "2021-12-16 20:50   -1\n",
      "2021-12-16 20:55    1\n",
      "2021-12-16 21:0    -1\n",
      "2021-12-16 21:5    -1\n",
      "                   ..\n",
      "2023-4-24 19:35     1\n",
      "2023-4-24 19:40    -1\n",
      "2023-4-24 19:45     1\n",
      "2023-4-24 19:50    -1\n",
      "2023-4-24 19:55     1\n",
      "Name: direction, Length: 20261, dtype: int32\n"
     ]
    }
   ],
   "source": [
    "df['direction'] = np.sign(df['return']).astype(int)\n",
    "print(df['direction'])"
   ]
  },
  {
   "cell_type": "code",
   "execution_count": 60,
   "metadata": {},
   "outputs": [
    {
     "name": "stdout",
     "output_type": "stream",
     "text": [
      "<class 'pandas.core.series.Series'>\n",
      "Index: 20261 entries, 2021-12-16 20:45 to 2023-4-24 19:55\n",
      "Series name: direction\n",
      "Non-Null Count  Dtype\n",
      "--------------  -----\n",
      "20261 non-null  int32\n",
      "dtypes: int32(1)\n",
      "memory usage: 237.4+ KB\n"
     ]
    }
   ],
   "source": [
    "df['direction'].info()"
   ]
  },
  {
   "cell_type": "code",
   "execution_count": 61,
   "metadata": {},
   "outputs": [
    {
     "data": {
      "text/plain": [
       "17"
      ]
     },
     "execution_count": 61,
     "metadata": {},
     "output_type": "execute_result"
    }
   ],
   "source": [
    "# Модуль суммы всех членов последовательности\n",
    "Sn = df['direction'].sum()\n",
    "Sn"
   ]
  },
  {
   "cell_type": "code",
   "execution_count": 62,
   "metadata": {},
   "outputs": [
    {
     "data": {
      "text/plain": [
       "0.11943138896642967"
      ]
     },
     "execution_count": 62,
     "metadata": {},
     "output_type": "execute_result"
    }
   ],
   "source": [
    "Sobs = Sn / math.sqrt(len(df['direction']))\n",
    "Sobs"
   ]
  },
  {
   "cell_type": "code",
   "execution_count": 63,
   "metadata": {},
   "outputs": [
    {
     "data": {
      "text/plain": [
       "0.9049335944593255"
      ]
     },
     "execution_count": 63,
     "metadata": {},
     "output_type": "execute_result"
    }
   ],
   "source": [
    "# P-value\n",
    "Pv = math.erfc(Sobs / math.sqrt(2))\n",
    "Pv"
   ]
  },
  {
   "cell_type": "markdown",
   "metadata": {},
   "source": [
    "$P-value > 0.01$, поэтому отсюда делаем вывод, что последовательность случайна"
   ]
  },
  {
   "cell_type": "markdown",
   "metadata": {},
   "source": [
    "Пробуем для интервала 1 час"
   ]
  },
  {
   "cell_type": "code",
   "execution_count": 64,
   "metadata": {},
   "outputs": [],
   "source": [
    "# Загружаем данные\n",
    "H1 = pd.read_csv('C:\\SBERBANK\\QUIK_x64\\lua\\Si-6.23\\SiM3_data_23-04-23\\SiM3_Data_H1.csv', index_col=0, parse_dates=False)"
   ]
  },
  {
   "cell_type": "code",
   "execution_count": 65,
   "metadata": {},
   "outputs": [
    {
     "data": {
      "text/html": [
       "<div>\n",
       "<style scoped>\n",
       "    .dataframe tbody tr th:only-of-type {\n",
       "        vertical-align: middle;\n",
       "    }\n",
       "\n",
       "    .dataframe tbody tr th {\n",
       "        vertical-align: top;\n",
       "    }\n",
       "\n",
       "    .dataframe thead th {\n",
       "        text-align: right;\n",
       "    }\n",
       "</style>\n",
       "<table border=\"1\" class=\"dataframe\">\n",
       "  <thead>\n",
       "    <tr style=\"text-align: right;\">\n",
       "      <th></th>\n",
       "      <th>Time</th>\n",
       "      <th>Open</th>\n",
       "      <th>High</th>\n",
       "      <th>Low</th>\n",
       "      <th>Close</th>\n",
       "      <th>Volume</th>\n",
       "    </tr>\n",
       "  </thead>\n",
       "  <tbody>\n",
       "    <tr>\n",
       "      <th>2023-5-5 20:0</th>\n",
       "      <td>20:0</td>\n",
       "      <td>76302.0</td>\n",
       "      <td>76418.0</td>\n",
       "      <td>76302.0</td>\n",
       "      <td>76399.0</td>\n",
       "      <td>5602.0</td>\n",
       "    </tr>\n",
       "    <tr>\n",
       "      <th>2023-5-5 19:0</th>\n",
       "      <td>19:0</td>\n",
       "      <td>76467.0</td>\n",
       "      <td>76549.0</td>\n",
       "      <td>76209.0</td>\n",
       "      <td>76301.0</td>\n",
       "      <td>16957.0</td>\n",
       "    </tr>\n",
       "    <tr>\n",
       "      <th>2023-5-5 18:0</th>\n",
       "      <td>18:0</td>\n",
       "      <td>76569.0</td>\n",
       "      <td>76590.0</td>\n",
       "      <td>76360.0</td>\n",
       "      <td>76450.0</td>\n",
       "      <td>46601.0</td>\n",
       "    </tr>\n",
       "    <tr>\n",
       "      <th>2023-5-5 17:0</th>\n",
       "      <td>17:0</td>\n",
       "      <td>76400.0</td>\n",
       "      <td>76654.0</td>\n",
       "      <td>76397.0</td>\n",
       "      <td>76570.0</td>\n",
       "      <td>63857.0</td>\n",
       "    </tr>\n",
       "    <tr>\n",
       "      <th>2023-5-5 16:0</th>\n",
       "      <td>16:0</td>\n",
       "      <td>76148.0</td>\n",
       "      <td>76473.0</td>\n",
       "      <td>76078.0</td>\n",
       "      <td>76400.0</td>\n",
       "      <td>63669.0</td>\n",
       "    </tr>\n",
       "  </tbody>\n",
       "</table>\n",
       "</div>"
      ],
      "text/plain": [
       "               Time     Open     High      Low    Close   Volume\n",
       "2023-5-5 20:0  20:0  76302.0  76418.0  76302.0  76399.0   5602.0\n",
       "2023-5-5 19:0  19:0  76467.0  76549.0  76209.0  76301.0  16957.0\n",
       "2023-5-5 18:0  18:0  76569.0  76590.0  76360.0  76450.0  46601.0\n",
       "2023-5-5 17:0  17:0  76400.0  76654.0  76397.0  76570.0  63857.0\n",
       "2023-5-5 16:0  16:0  76148.0  76473.0  76078.0  76400.0  63669.0"
      ]
     },
     "execution_count": 65,
     "metadata": {},
     "output_type": "execute_result"
    }
   ],
   "source": [
    "# Проиндексируем данные таким образом, чтобы дата и время стали индексом\n",
    "H1.index = H1.index+ ' ' + H1['Time']\n",
    "H1.head()"
   ]
  },
  {
   "cell_type": "code",
   "execution_count": 66,
   "metadata": {},
   "outputs": [],
   "source": [
    "# Поменяем порядок данных так, чтобы начало было в первой сроке\n",
    "H1 = H1[::-1]"
   ]
  },
  {
   "cell_type": "code",
   "execution_count": 67,
   "metadata": {},
   "outputs": [],
   "source": [
    "# формирование подмножества данных и исключение нечисловых значений (NaN))\n",
    "H1 = (pd.DataFrame(H1).dropna())"
   ]
  },
  {
   "cell_type": "code",
   "execution_count": 68,
   "metadata": {},
   "outputs": [
    {
     "name": "stdout",
     "output_type": "stream",
     "text": [
      "2022-6-7 15:0   -271.0\n",
      "2022-6-7 16:0      0.0\n",
      "2022-6-7 17:0    259.0\n",
      "2022-6-7 18:0      0.0\n",
      "2022-6-8 10:0     -2.0\n",
      "                 ...  \n",
      "2023-5-5 16:0    252.0\n",
      "2023-5-5 17:0    170.0\n",
      "2023-5-5 18:0   -119.0\n",
      "2023-5-5 19:0   -166.0\n",
      "2023-5-5 20:0     97.0\n",
      "Name: return, Length: 3012, dtype: float64\n"
     ]
    }
   ],
   "source": [
    "H1['return'] = H1.Close - H1.Open\n",
    "print(H1['return'])"
   ]
  },
  {
   "cell_type": "code",
   "execution_count": 69,
   "metadata": {},
   "outputs": [
    {
     "name": "stdout",
     "output_type": "stream",
     "text": [
      "2022-6-7 15:0   -1\n",
      "2022-6-7 16:0    0\n",
      "2022-6-7 17:0    1\n",
      "2022-6-7 18:0    0\n",
      "2022-6-8 10:0   -1\n",
      "                ..\n",
      "2023-5-5 16:0    1\n",
      "2023-5-5 17:0    1\n",
      "2023-5-5 18:0   -1\n",
      "2023-5-5 19:0   -1\n",
      "2023-5-5 20:0    1\n",
      "Name: direction, Length: 3012, dtype: int32\n"
     ]
    }
   ],
   "source": [
    "H1['direction'] = np.sign(H1['return']).astype(int)\n",
    "print(H1['direction'])"
   ]
  },
  {
   "cell_type": "code",
   "execution_count": 70,
   "metadata": {},
   "outputs": [
    {
     "name": "stdout",
     "output_type": "stream",
     "text": [
      "<class 'pandas.core.series.Series'>\n",
      "Index: 3012 entries, 2022-6-7 15:0 to 2023-5-5 20:0\n",
      "Series name: direction\n",
      "Non-Null Count  Dtype\n",
      "--------------  -----\n",
      "3012 non-null   int32\n",
      "dtypes: int32(1)\n",
      "memory usage: 35.3+ KB\n"
     ]
    }
   ],
   "source": [
    "H1['direction'].info()"
   ]
  },
  {
   "cell_type": "code",
   "execution_count": 71,
   "metadata": {},
   "outputs": [
    {
     "data": {
      "text/plain": [
       "81"
      ]
     },
     "execution_count": 71,
     "metadata": {},
     "output_type": "execute_result"
    }
   ],
   "source": [
    "# Модуль суммы всех членов последовательности\n",
    "Sn = H1['direction'].sum()\n",
    "Sn"
   ]
  },
  {
   "cell_type": "code",
   "execution_count": 72,
   "metadata": {},
   "outputs": [
    {
     "data": {
      "text/plain": [
       "1.4759020470849822"
      ]
     },
     "execution_count": 72,
     "metadata": {},
     "output_type": "execute_result"
    }
   ],
   "source": [
    "Sobs = Sn / math.sqrt(len(H1['direction']))\n",
    "Sobs"
   ]
  },
  {
   "cell_type": "code",
   "execution_count": 73,
   "metadata": {},
   "outputs": [
    {
     "data": {
      "text/plain": [
       "0.1399701898882605"
      ]
     },
     "execution_count": 73,
     "metadata": {},
     "output_type": "execute_result"
    }
   ],
   "source": [
    "# P-value\n",
    "Pv = math.erfc(Sobs / math.sqrt(2))\n",
    "Pv"
   ]
  },
  {
   "cell_type": "markdown",
   "metadata": {},
   "source": [
    "$P-value > 0.01$, поэтому отсюда делаем вывод, что последовательность случайна. Один хуй больше 0,01"
   ]
  },
  {
   "cell_type": "markdown",
   "metadata": {},
   "source": [
    "Пробуем для дневного"
   ]
  },
  {
   "cell_type": "code",
   "execution_count": 74,
   "metadata": {},
   "outputs": [],
   "source": [
    "# Загружаем данные\n",
    "D1 = pd.read_csv('C:\\SBERBANK\\QUIK_x64\\lua\\Si-6.23\\SiM3_data_23-04-23\\SiM3_Data_D1.csv', index_col=0, parse_dates=False)"
   ]
  },
  {
   "cell_type": "code",
   "execution_count": 75,
   "metadata": {},
   "outputs": [
    {
     "data": {
      "text/html": [
       "<div>\n",
       "<style scoped>\n",
       "    .dataframe tbody tr th:only-of-type {\n",
       "        vertical-align: middle;\n",
       "    }\n",
       "\n",
       "    .dataframe tbody tr th {\n",
       "        vertical-align: top;\n",
       "    }\n",
       "\n",
       "    .dataframe thead th {\n",
       "        text-align: right;\n",
       "    }\n",
       "</style>\n",
       "<table border=\"1\" class=\"dataframe\">\n",
       "  <thead>\n",
       "    <tr style=\"text-align: right;\">\n",
       "      <th></th>\n",
       "      <th>Time</th>\n",
       "      <th>Open</th>\n",
       "      <th>High</th>\n",
       "      <th>Low</th>\n",
       "      <th>Close</th>\n",
       "      <th>Volume</th>\n",
       "    </tr>\n",
       "  </thead>\n",
       "  <tbody>\n",
       "    <tr>\n",
       "      <th>2023-5-5 0:0</th>\n",
       "      <td>0:0</td>\n",
       "      <td>77086.0</td>\n",
       "      <td>77086.0</td>\n",
       "      <td>75424.0</td>\n",
       "      <td>76377.0</td>\n",
       "      <td>1578171.0</td>\n",
       "    </tr>\n",
       "    <tr>\n",
       "      <th>2023-5-4 0:0</th>\n",
       "      <td>0:0</td>\n",
       "      <td>78239.0</td>\n",
       "      <td>78280.0</td>\n",
       "      <td>76406.0</td>\n",
       "      <td>77136.0</td>\n",
       "      <td>1437724.0</td>\n",
       "    </tr>\n",
       "    <tr>\n",
       "      <th>2023-5-3 0:0</th>\n",
       "      <td>0:0</td>\n",
       "      <td>78586.0</td>\n",
       "      <td>78848.0</td>\n",
       "      <td>77641.0</td>\n",
       "      <td>78220.0</td>\n",
       "      <td>958268.0</td>\n",
       "    </tr>\n",
       "    <tr>\n",
       "      <th>2023-5-2 0:0</th>\n",
       "      <td>0:0</td>\n",
       "      <td>79338.0</td>\n",
       "      <td>79630.0</td>\n",
       "      <td>78206.0</td>\n",
       "      <td>78586.0</td>\n",
       "      <td>1168695.0</td>\n",
       "    </tr>\n",
       "    <tr>\n",
       "      <th>2023-4-28 0:0</th>\n",
       "      <td>0:0</td>\n",
       "      <td>80317.0</td>\n",
       "      <td>80676.0</td>\n",
       "      <td>78250.0</td>\n",
       "      <td>79310.0</td>\n",
       "      <td>1791264.0</td>\n",
       "    </tr>\n",
       "  </tbody>\n",
       "</table>\n",
       "</div>"
      ],
      "text/plain": [
       "              Time     Open     High      Low    Close     Volume\n",
       "2023-5-5 0:0   0:0  77086.0  77086.0  75424.0  76377.0  1578171.0\n",
       "2023-5-4 0:0   0:0  78239.0  78280.0  76406.0  77136.0  1437724.0\n",
       "2023-5-3 0:0   0:0  78586.0  78848.0  77641.0  78220.0   958268.0\n",
       "2023-5-2 0:0   0:0  79338.0  79630.0  78206.0  78586.0  1168695.0\n",
       "2023-4-28 0:0  0:0  80317.0  80676.0  78250.0  79310.0  1791264.0"
      ]
     },
     "execution_count": 75,
     "metadata": {},
     "output_type": "execute_result"
    }
   ],
   "source": [
    "# Проиндексируем данные таким образом, чтобы дата и время стали индексом\n",
    "D1.index = D1.index+ ' ' + D1['Time']\n",
    "D1.head()"
   ]
  },
  {
   "cell_type": "code",
   "execution_count": 76,
   "metadata": {},
   "outputs": [],
   "source": [
    "# Поменяем порядок данных так, чтобы начало было в первой сроке\n",
    "D1 = D1[::-1]"
   ]
  },
  {
   "cell_type": "code",
   "execution_count": 77,
   "metadata": {},
   "outputs": [],
   "source": [
    "# формирование подмножества данных и исключение нечисловых значений (NaN))\n",
    "D1 = (pd.DataFrame(D1).dropna())"
   ]
  },
  {
   "cell_type": "code",
   "execution_count": 78,
   "metadata": {},
   "outputs": [
    {
     "name": "stdout",
     "output_type": "stream",
     "text": [
      "2021-6-14 0:0     245.0\n",
      "2021-6-15 0:0   -1088.0\n",
      "2021-6-18 0:0      80.0\n",
      "2021-6-21 0:0     432.0\n",
      "2021-6-22 0:0     -55.0\n",
      "                  ...  \n",
      "2023-4-28 0:0   -1007.0\n",
      "2023-5-2 0:0     -752.0\n",
      "2023-5-3 0:0     -366.0\n",
      "2023-5-4 0:0    -1103.0\n",
      "2023-5-5 0:0     -709.0\n",
      "Name: return, Length: 423, dtype: float64\n"
     ]
    }
   ],
   "source": [
    "D1['return'] = D1.Close - D1.Open\n",
    "print(D1['return'])"
   ]
  },
  {
   "cell_type": "code",
   "execution_count": 79,
   "metadata": {},
   "outputs": [
    {
     "name": "stdout",
     "output_type": "stream",
     "text": [
      "2021-6-14 0:0    1\n",
      "2021-6-15 0:0   -1\n",
      "2021-6-18 0:0    1\n",
      "2021-6-21 0:0    1\n",
      "2021-6-22 0:0   -1\n",
      "                ..\n",
      "2023-4-28 0:0   -1\n",
      "2023-5-2 0:0    -1\n",
      "2023-5-3 0:0    -1\n",
      "2023-5-4 0:0    -1\n",
      "2023-5-5 0:0    -1\n",
      "Name: direction, Length: 423, dtype: int32\n"
     ]
    }
   ],
   "source": [
    "D1['direction'] = np.sign(D1['return']).astype(int)\n",
    "print(D1['direction'])"
   ]
  },
  {
   "cell_type": "code",
   "execution_count": 80,
   "metadata": {},
   "outputs": [
    {
     "name": "stdout",
     "output_type": "stream",
     "text": [
      "<class 'pandas.core.series.Series'>\n",
      "Index: 423 entries, 2021-6-14 0:0 to 2023-5-5 0:0\n",
      "Series name: direction\n",
      "Non-Null Count  Dtype\n",
      "--------------  -----\n",
      "423 non-null    int32\n",
      "dtypes: int32(1)\n",
      "memory usage: 5.0+ KB\n"
     ]
    }
   ],
   "source": [
    "D1['direction'].info()"
   ]
  },
  {
   "cell_type": "code",
   "execution_count": 81,
   "metadata": {},
   "outputs": [
    {
     "data": {
      "text/plain": [
       "4"
      ]
     },
     "execution_count": 81,
     "metadata": {},
     "output_type": "execute_result"
    }
   ],
   "source": [
    "# Модуль суммы всех членов последовательности\n",
    "Sn = D1['direction'].sum()\n",
    "Sn = abs(Sn)\n",
    "Sn"
   ]
  },
  {
   "cell_type": "code",
   "execution_count": 82,
   "metadata": {},
   "outputs": [
    {
     "data": {
      "text/plain": [
       "0.19448665533052606"
      ]
     },
     "execution_count": 82,
     "metadata": {},
     "output_type": "execute_result"
    }
   ],
   "source": [
    "Sobs = Sn / math.sqrt(len(D1['direction']))\n",
    "Sobs"
   ]
  },
  {
   "cell_type": "code",
   "execution_count": 83,
   "metadata": {},
   "outputs": [
    {
     "data": {
      "text/plain": [
       "0.8457948437403361"
      ]
     },
     "execution_count": 83,
     "metadata": {},
     "output_type": "execute_result"
    }
   ],
   "source": [
    "# P-value\n",
    "Pv = math.erfc(Sobs / math.sqrt(2))\n",
    "Pv"
   ]
  }
 ],
 "metadata": {
  "kernelspec": {
   "display_name": "Python 3.9.13 64-bit (microsoft store)",
   "language": "python",
   "name": "python3"
  },
  "language_info": {
   "codemirror_mode": {
    "name": "ipython",
    "version": 3
   },
   "file_extension": ".py",
   "mimetype": "text/x-python",
   "name": "python",
   "nbconvert_exporter": "python",
   "pygments_lexer": "ipython3",
   "version": "3.9.13"
  },
  "orig_nbformat": 4,
  "vscode": {
   "interpreter": {
    "hash": "df1dcb468d51eff0d314cb6cf4e3077034bfe9d1cdf2d96d24ce9ee578b396dd"
   }
  }
 },
 "nbformat": 4,
 "nbformat_minor": 2
}
