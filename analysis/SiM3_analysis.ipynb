{
 "cells": [
  {
   "cell_type": "markdown",
   "metadata": {},
   "source": [
    "# Анализ котировок"
   ]
  },
  {
   "cell_type": "code",
   "execution_count": 2,
   "metadata": {},
   "outputs": [],
   "source": [
    "import scipy\n",
    "import math\n",
    "import numpy as np\n",
    "import pandas as pd\n",
    "import matplotlib\n",
    "import sklearn\n",
    "import tensorflow as tf"
   ]
  },
  {
   "cell_type": "code",
   "execution_count": 3,
   "metadata": {},
   "outputs": [],
   "source": [
    "# Загружаем данные\n",
    "df = pd.read_csv('C:\\SBERBANK\\QUIK_x64\\lua\\Si-6.23\\SiM3_data_23-04-23\\SiM3_Data.csv', index_col=0, parse_dates=False)"
   ]
  },
  {
   "cell_type": "code",
   "execution_count": 4,
   "metadata": {},
   "outputs": [
    {
     "data": {
      "text/html": [
       "<div>\n",
       "<style scoped>\n",
       "    .dataframe tbody tr th:only-of-type {\n",
       "        vertical-align: middle;\n",
       "    }\n",
       "\n",
       "    .dataframe tbody tr th {\n",
       "        vertical-align: top;\n",
       "    }\n",
       "\n",
       "    .dataframe thead th {\n",
       "        text-align: right;\n",
       "    }\n",
       "</style>\n",
       "<table border=\"1\" class=\"dataframe\">\n",
       "  <thead>\n",
       "    <tr style=\"text-align: right;\">\n",
       "      <th></th>\n",
       "      <th>Time</th>\n",
       "      <th>Open</th>\n",
       "      <th>High</th>\n",
       "      <th>Low</th>\n",
       "      <th>Close</th>\n",
       "      <th>Volume</th>\n",
       "    </tr>\n",
       "  </thead>\n",
       "  <tbody>\n",
       "    <tr>\n",
       "      <th>2023-4-24 19:55</th>\n",
       "      <td>19:55</td>\n",
       "      <td>80296.0</td>\n",
       "      <td>80300.0</td>\n",
       "      <td>80296.0</td>\n",
       "      <td>80297.0</td>\n",
       "      <td>53.0</td>\n",
       "    </tr>\n",
       "    <tr>\n",
       "      <th>2023-4-24 19:50</th>\n",
       "      <td>19:50</td>\n",
       "      <td>80302.0</td>\n",
       "      <td>80304.0</td>\n",
       "      <td>80293.0</td>\n",
       "      <td>80296.0</td>\n",
       "      <td>237.0</td>\n",
       "    </tr>\n",
       "    <tr>\n",
       "      <th>2023-4-24 19:45</th>\n",
       "      <td>19:45</td>\n",
       "      <td>80296.0</td>\n",
       "      <td>80324.0</td>\n",
       "      <td>80293.0</td>\n",
       "      <td>80304.0</td>\n",
       "      <td>288.0</td>\n",
       "    </tr>\n",
       "    <tr>\n",
       "      <th>2023-4-24 19:40</th>\n",
       "      <td>19:40</td>\n",
       "      <td>80300.0</td>\n",
       "      <td>80312.0</td>\n",
       "      <td>80293.0</td>\n",
       "      <td>80296.0</td>\n",
       "      <td>275.0</td>\n",
       "    </tr>\n",
       "    <tr>\n",
       "      <th>2023-4-24 19:35</th>\n",
       "      <td>19:35</td>\n",
       "      <td>80300.0</td>\n",
       "      <td>80311.0</td>\n",
       "      <td>80292.0</td>\n",
       "      <td>80301.0</td>\n",
       "      <td>143.0</td>\n",
       "    </tr>\n",
       "  </tbody>\n",
       "</table>\n",
       "</div>"
      ],
      "text/plain": [
       "                  Time     Open     High      Low    Close  Volume\n",
       "2023-4-24 19:55  19:55  80296.0  80300.0  80296.0  80297.0    53.0\n",
       "2023-4-24 19:50  19:50  80302.0  80304.0  80293.0  80296.0   237.0\n",
       "2023-4-24 19:45  19:45  80296.0  80324.0  80293.0  80304.0   288.0\n",
       "2023-4-24 19:40  19:40  80300.0  80312.0  80293.0  80296.0   275.0\n",
       "2023-4-24 19:35  19:35  80300.0  80311.0  80292.0  80301.0   143.0"
      ]
     },
     "execution_count": 4,
     "metadata": {},
     "output_type": "execute_result"
    }
   ],
   "source": [
    "# Проиндексируем данные таким образом, чтобы дата и время стали индексом\n",
    "df.index = df.index+ ' ' + df['Time']\n",
    "df.head()"
   ]
  },
  {
   "cell_type": "code",
   "execution_count": 5,
   "metadata": {},
   "outputs": [],
   "source": [
    "# Поменяем порядок данных так, чтобы начало было в первой сроке\n",
    "df = df[::-1]"
   ]
  },
  {
   "cell_type": "code",
   "execution_count": 6,
   "metadata": {},
   "outputs": [],
   "source": [
    "# формирование подмножества данных и исключение нечисловых значений (NaN))\n",
    "df = (pd.DataFrame(df).dropna())"
   ]
  },
  {
   "cell_type": "code",
   "execution_count": 7,
   "metadata": {},
   "outputs": [
    {
     "name": "stdout",
     "output_type": "stream",
     "text": [
      "2021-12-16 20:45    21.0\n",
      "2021-12-16 20:50   -12.0\n",
      "2021-12-16 20:55     5.0\n",
      "2021-12-16 21:0    -38.0\n",
      "2021-12-16 21:5    -22.0\n",
      "                    ... \n",
      "2023-4-24 19:35      1.0\n",
      "2023-4-24 19:40     -4.0\n",
      "2023-4-24 19:45      8.0\n",
      "2023-4-24 19:50     -6.0\n",
      "2023-4-24 19:55      1.0\n",
      "Name: return, Length: 20261, dtype: float64\n"
     ]
    }
   ],
   "source": [
    "df['return'] = df.Close - df.Open\n",
    "print(df['return'])"
   ]
  },
  {
   "cell_type": "code",
   "execution_count": 8,
   "metadata": {},
   "outputs": [
    {
     "name": "stdout",
     "output_type": "stream",
     "text": [
      "2021-12-16 20:45    1\n",
      "2021-12-16 20:50   -1\n",
      "2021-12-16 20:55    1\n",
      "2021-12-16 21:0    -1\n",
      "2021-12-16 21:5    -1\n",
      "                   ..\n",
      "2023-4-24 19:35     1\n",
      "2023-4-24 19:40    -1\n",
      "2023-4-24 19:45     1\n",
      "2023-4-24 19:50    -1\n",
      "2023-4-24 19:55     1\n",
      "Name: direction, Length: 20261, dtype: int32\n"
     ]
    }
   ],
   "source": [
    "df['direction'] = np.sign(df['return']).astype(int)\n",
    "print(df['direction'])"
   ]
  },
  {
   "cell_type": "code",
   "execution_count": 9,
   "metadata": {},
   "outputs": [
    {
     "name": "stdout",
     "output_type": "stream",
     "text": [
      "<class 'pandas.core.series.Series'>\n",
      "Index: 20261 entries, 2021-12-16 20:45 to 2023-4-24 19:55\n",
      "Series name: direction\n",
      "Non-Null Count  Dtype\n",
      "--------------  -----\n",
      "20261 non-null  int32\n",
      "dtypes: int32(1)\n",
      "memory usage: 237.4+ KB\n"
     ]
    }
   ],
   "source": [
    "df['direction'].info()"
   ]
  },
  {
   "cell_type": "code",
   "execution_count": 12,
   "metadata": {},
   "outputs": [
    {
     "data": {
      "text/plain": [
       "17"
      ]
     },
     "execution_count": 12,
     "metadata": {},
     "output_type": "execute_result"
    }
   ],
   "source": [
    "# Модуль суммы всех членов последовательности\n",
    "Sn = df['direction'].sum()\n",
    "Sn"
   ]
  },
  {
   "cell_type": "code",
   "execution_count": 13,
   "metadata": {},
   "outputs": [
    {
     "data": {
      "text/plain": [
       "0.11943138896642967"
      ]
     },
     "execution_count": 13,
     "metadata": {},
     "output_type": "execute_result"
    }
   ],
   "source": [
    "Sobs = Sn / math.sqrt(len(df['direction']))\n",
    "Sobs"
   ]
  },
  {
   "cell_type": "code",
   "execution_count": 14,
   "metadata": {},
   "outputs": [
    {
     "data": {
      "text/plain": [
       "0.9049335944593255"
      ]
     },
     "execution_count": 14,
     "metadata": {},
     "output_type": "execute_result"
    }
   ],
   "source": [
    "# P-value\n",
    "Pv = math.erfc(Sobs / math.sqrt(2))\n",
    "Pv"
   ]
  },
  {
   "cell_type": "markdown",
   "metadata": {},
   "source": [
    "$P-value > 0.01$, поэтому отсюда делаем вывод, что последовательность случайна"
   ]
  }
 ],
 "metadata": {
  "kernelspec": {
   "display_name": "Python 3.9.13 64-bit (microsoft store)",
   "language": "python",
   "name": "python3"
  },
  "language_info": {
   "codemirror_mode": {
    "name": "ipython",
    "version": 3
   },
   "file_extension": ".py",
   "mimetype": "text/x-python",
   "name": "python",
   "nbconvert_exporter": "python",
   "pygments_lexer": "ipython3",
   "version": "3.9.13"
  },
  "orig_nbformat": 4,
  "vscode": {
   "interpreter": {
    "hash": "df1dcb468d51eff0d314cb6cf4e3077034bfe9d1cdf2d96d24ce9ee578b396dd"
   }
  }
 },
 "nbformat": 4,
 "nbformat_minor": 2
}
